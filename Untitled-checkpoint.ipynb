{
 "cells": [
  {
   "cell_type": "code",
   "execution_count": 42,
   "metadata": {
    "collapsed": false
   },
   "outputs": [
    {
     "name": "stdout",
     "output_type": "stream",
     "text": [
      "3\n"
     ]
    },
    {
     "ename": "TypeError",
     "evalue": "unsupported operand type(s) for *: 'float' and 'NoneType'",
     "output_type": "error",
     "traceback": [
      "\u001b[0;31m---------------------------------------------------------------------------\u001b[0m",
      "\u001b[0;31mTypeError\u001b[0m                                 Traceback (most recent call last)",
      "\u001b[0;32m<ipython-input-42-7cc7e58fc59e>\u001b[0m in \u001b[0;36m<module>\u001b[0;34m()\u001b[0m\n\u001b[1;32m     78\u001b[0m          \u001b[0mdepth\u001b[0m \u001b[1;33m=\u001b[0m \u001b[1;36m0\u001b[0m\u001b[1;33m\u001b[0m\u001b[0m\n\u001b[1;32m     79\u001b[0m          \u001b[1;32mwhile\u001b[0m \u001b[0mdepth\u001b[0m \u001b[1;33m<\u001b[0m \u001b[0mdepth_max\u001b[0m\u001b[1;33m:\u001b[0m\u001b[1;33m\u001b[0m\u001b[0m\n\u001b[0;32m---> 80\u001b[0;31m              \u001b[0mtraced\u001b[0m \u001b[1;33m=\u001b[0m \u001b[0mcast_ray\u001b[0m\u001b[1;33m(\u001b[0m\u001b[0mrayO\u001b[0m\u001b[1;33m,\u001b[0m \u001b[0mrayD\u001b[0m\u001b[1;33m,\u001b[0m \u001b[1;34m'data.txt'\u001b[0m\u001b[1;33m)\u001b[0m\u001b[1;33m\u001b[0m\u001b[0m\n\u001b[0m\u001b[1;32m     81\u001b[0m              \u001b[1;32mif\u001b[0m \u001b[1;32mnot\u001b[0m \u001b[0mtraced\u001b[0m\u001b[1;33m:\u001b[0m\u001b[1;33m\u001b[0m\u001b[0m\n\u001b[1;32m     82\u001b[0m                 \u001b[1;32mbreak\u001b[0m\u001b[1;33m\u001b[0m\u001b[0m\n",
      "\u001b[0;32m<ipython-input-42-7cc7e58fc59e>\u001b[0m in \u001b[0;36mcast_ray\u001b[0;34m(startPoint, directionPoint, filename)\u001b[0m\n\u001b[1;32m     60\u001b[0m     \u001b[0mprint\u001b[0m\u001b[1;33m(\u001b[0m\u001b[0mn\u001b[0m\u001b[1;33m)\u001b[0m\u001b[1;33m\u001b[0m\u001b[0m\n\u001b[1;32m     61\u001b[0m     \u001b[1;32mfor\u001b[0m \u001b[0mi\u001b[0m \u001b[1;32min\u001b[0m \u001b[0mrange\u001b[0m\u001b[1;33m(\u001b[0m\u001b[1;36m0\u001b[0m\u001b[1;33m,\u001b[0m\u001b[0mn\u001b[0m\u001b[1;33m)\u001b[0m\u001b[1;33m:\u001b[0m\u001b[1;33m\u001b[0m\u001b[0m\n\u001b[0;32m---> 62\u001b[0;31m             \u001b[1;32mif\u001b[0m \u001b[0mray_intersects\u001b[0m\u001b[1;33m(\u001b[0m\u001b[0mscene\u001b[0m\u001b[1;33m[\u001b[0m\u001b[0mi\u001b[0m\u001b[1;33m]\u001b[0m\u001b[1;33m.\u001b[0m\u001b[0mget\u001b[0m\u001b[1;33m(\u001b[0m\u001b[1;34m'object'\u001b[0m\u001b[1;33m)\u001b[0m\u001b[1;33m,\u001b[0m\u001b[0mscene\u001b[0m\u001b[1;33m[\u001b[0m\u001b[0mi\u001b[0m\u001b[1;33m]\u001b[0m\u001b[1;33m.\u001b[0m\u001b[0mget\u001b[0m\u001b[1;33m(\u001b[0m\u001b[1;34m'position'\u001b[0m\u001b[1;33m)\u001b[0m\u001b[1;33m,\u001b[0m\u001b[0mscene\u001b[0m\u001b[1;33m[\u001b[0m\u001b[0mi\u001b[0m\u001b[1;33m]\u001b[0m\u001b[1;33m.\u001b[0m\u001b[0mget\u001b[0m\u001b[1;33m(\u001b[0m\u001b[1;34m'noor'\u001b[0m\u001b[1;33m)\u001b[0m\u001b[1;33m,\u001b[0m\u001b[0mstartPoint\u001b[0m\u001b[1;33m,\u001b[0m\u001b[0mdirectionPoint\u001b[0m\u001b[1;33m)\u001b[0m\u001b[1;33m:\u001b[0m    \u001b[1;32mreturn\u001b[0m \u001b[1;36m1\u001b[0m\u001b[1;33m;\u001b[0m\u001b[1;33m\u001b[0m\u001b[0m\n\u001b[0m\u001b[1;32m     63\u001b[0m     \u001b[1;32mreturn\u001b[0m \u001b[1;36m0\u001b[0m\u001b[1;33m\u001b[0m\u001b[0m\n\u001b[1;32m     64\u001b[0m \u001b[0mw\u001b[0m\u001b[1;33m=\u001b[0m\u001b[1;36m500\u001b[0m\u001b[1;33m\u001b[0m\u001b[0m\n",
      "\u001b[0;32m<ipython-input-42-7cc7e58fc59e>\u001b[0m in \u001b[0;36mray_intersects\u001b[0;34m(objectType, parameter1, parameter2, startPoint, directionPoint)\u001b[0m\n\u001b[1;32m     29\u001b[0m         \u001b[0mnormal\u001b[0m\u001b[1;33m=\u001b[0m\u001b[0mparameter2\u001b[0m\u001b[1;33m\u001b[0m\u001b[0m\n\u001b[1;32m     30\u001b[0m         \u001b[0mradiusVector\u001b[0m\u001b[1;33m=\u001b[0m\u001b[0mparameter1\u001b[0m\u001b[1;33m\u001b[0m\u001b[0m\n\u001b[0;32m---> 31\u001b[0;31m         \u001b[0mcosA\u001b[0m \u001b[1;33m=\u001b[0m \u001b[0mnp\u001b[0m\u001b[1;33m.\u001b[0m\u001b[0mdot\u001b[0m\u001b[1;33m(\u001b[0m\u001b[0mdirectionPoint\u001b[0m\u001b[1;33m,\u001b[0m \u001b[0mnormal\u001b[0m\u001b[1;33m)\u001b[0m\u001b[1;33m\u001b[0m\u001b[0m\n\u001b[0m\u001b[1;32m     32\u001b[0m         \u001b[1;32mif\u001b[0m \u001b[0mnp\u001b[0m\u001b[1;33m.\u001b[0m\u001b[0mabs\u001b[0m\u001b[1;33m(\u001b[0m\u001b[0mcosA\u001b[0m\u001b[1;33m)\u001b[0m \u001b[1;33m<\u001b[0m \u001b[1;36m1e-6\u001b[0m\u001b[1;33m:\u001b[0m\u001b[1;33m\u001b[0m\u001b[0m\n\u001b[1;32m     33\u001b[0m             \u001b[1;32mreturn\u001b[0m \u001b[0mnp\u001b[0m\u001b[1;33m.\u001b[0m\u001b[0minf\u001b[0m\u001b[1;33m\u001b[0m\u001b[0m\n",
      "\u001b[0;31mTypeError\u001b[0m: unsupported operand type(s) for *: 'float' and 'NoneType'"
     ]
    }
   ],
   "source": [
    "import numpy as np\n",
    "import matplotlib.pyplot as plt\n",
    "\n",
    "\n",
    "def normalize(x):\n",
    "    x /= np.linalg.norm(x)\n",
    "    return x\n",
    "\n",
    "\n",
    "def make_scene(filename):\n",
    "    scene=[]\n",
    "    position=[1,1,0]\n",
    "    normal=[0,0,1]\n",
    "    scene.append({'object':'plane','position':np.array(position),'norr':np.array(normal)})\n",
    "    file = open(filename,'r')\n",
    "    while True:\n",
    "        text = file.readline()\n",
    "        if (text!=''):\n",
    "            position = [float(text) for text in text[0:text.find(';')].split(',')]\n",
    "            radius = float(text[text.find(';')+1:len(text)])\n",
    "            scene.append({'object':'sphere','position': np.array(position),'noor':radius})\n",
    "        if(text==''):   break\n",
    "    return scene\n",
    "#d=make_scene('data.txt')\n",
    "#print(2-d[1].get('radius'))\n",
    "\n",
    "def ray_intersects(objectType,parameter1, parameter2, startPoint,directionPoint):\n",
    "    if(objectType=='plane'):\n",
    "        normal=parameter2\n",
    "        radiusVector=parameter1\n",
    "        cosA = np.dot(directionPoint, normal)\n",
    "        if np.abs(cosA) < 1e-6:\n",
    "            return np.inf\n",
    "        d = np.dot(radiusVector - startPoint, normal) / cosA\n",
    "        if d < 0:\n",
    "            return np.inf\n",
    "        return d\n",
    "    if(objectType=='sphere'):\n",
    "        position=parameter1\n",
    "        radius=parameter2\n",
    "        a = np.dot(directionPoint, directionPoint)\n",
    "        startPosition = startPoint - position\n",
    "        b = 2 * np.dot(directionPoint, startPosition)\n",
    "        c = np.dot(OS, OS) - radius * radius\n",
    "        disc = b * b - 4 * a * c\n",
    "        if (disc > 0):\n",
    "            distSqrt = np.sqrt(disc)\n",
    "            q = (-b - distSqrt) / 2.0 if b < 0 else (-b + distSqrt) / 2.0\n",
    "            t0 = q / a\n",
    "            t1 = c / q\n",
    "            t0, t1 = min(t0, t1), max(t0, t1)\n",
    "            if t1 >= 0:\n",
    "                return t1 if t0 < 0 else t0\n",
    "    return np.inf\n",
    "       \n",
    "\n",
    "def cast_ray(startPoint, directionPoint, filename):\n",
    "    scene = make_scene(filename)\n",
    "    n=len(scene)-1\n",
    "    print(n)\n",
    "    for i in range(0,n):\n",
    "            if ray_intersects(scene[i].get('object'),scene[i].get('position'),scene[i].get('noor'),startPoint,directionPoint):    return 1;\n",
    "    return 0\n",
    "w=500\n",
    "h=600\n",
    "depth_max=5\n",
    "O = np.array([0., 0.35, -1.]) \n",
    "Q = np.array([0., 0., 0.]) \n",
    "img = np.zeros((w, h, 3))\n",
    "r = float(w) / h\n",
    "S = (-1., -1. / r + .25, 1., 1. / r + .25)\n",
    "# Loop through all pixels.\n",
    "for i, x in enumerate(np.linspace(S[0], S[2], w)):\n",
    "    for j, y in enumerate(np.linspace(S[1], S[3], h)):\n",
    "         Q[:2] = (x, y)\n",
    "         D = normalize(Q - O)\n",
    "         rayO, rayD = O, D\n",
    "         depth = 0\n",
    "         while depth < depth_max:\n",
    "             traced = cast_ray(rayO, rayD, 'data.txt')\n",
    "             if not traced:    \n",
    "                break\n",
    "             depth += 1\n",
    "             M,N = traced\n",
    "             rayO, rayD = M + N * .0001, normalize(rayD - 2 * np.dot(rayD, N) * N)\n",
    "         img[h - j - 1, i, :] = np.clip(100, 0, 1)\n",
    "plt.imsave('pltttt.png', img)            \n",
    "      \n",
    "    \n",
    "    \n",
    "\n",
    "\n",
    "        \n",
    "        \n",
    "        \n",
    "        "
   ]
  },
  {
   "cell_type": "code",
   "execution_count": null,
   "metadata": {
    "collapsed": true
   },
   "outputs": [],
   "source": []
  },
  {
   "cell_type": "code",
   "execution_count": null,
   "metadata": {
    "collapsed": true
   },
   "outputs": [],
   "source": []
  }
 ],
 "metadata": {
  "anaconda-cloud": {},
  "kernelspec": {
   "display_name": "Python [conda root]",
   "language": "python",
   "name": "conda-root-py"
  },
  "language_info": {
   "codemirror_mode": {
    "name": "ipython",
    "version": 3
   },
   "file_extension": ".py",
   "mimetype": "text/x-python",
   "name": "python",
   "nbconvert_exporter": "python",
   "pygments_lexer": "ipython3",
   "version": "3.5.2"
  }
 },
 "nbformat": 4,
 "nbformat_minor": 1
}
