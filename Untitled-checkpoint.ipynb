{
 "cells": [
  {
   "cell_type": "code",
   "execution_count": null,
   "metadata": {
    "collapsed": true
   },
   "outputs": [],
   "source": []
  },
  {
   "cell_type": "code",
   "execution_count": 45,
   "metadata": {
    "collapsed": false
   },
   "outputs": [
    {
     "name": "stdout",
     "output_type": "stream",
     "text": [
      "12 15\n",
      "0.6\n",
      "14 17\n",
      "0.5\n",
      "12 15\n",
      "0.5\n"
     ]
    }
   ],
   "source": [
    "import numpy as np\n",
    "import matplotlib.pyplot as plt\n",
    "\n",
    "\n",
    "def make_scene(filename):\n",
    "    scene=[]\n",
    "    position=[1,1,0]\n",
    "    normal=[0,0,1]\n",
    "    color=[0.2,20,36]\n",
    "    scene.append({'object':'plane','position':np.array(position),'noor':np.array(normal),'color':np.array(color),'diffuse':0.5,'reflection':0.5})\n",
    "    file = open(filename,'r')\n",
    "    while True:\n",
    "        text = file.readline()\n",
    "        if (text!=''):\n",
    "            position = [float(text) for text in text[0:text.find(';')].split(',')]\n",
    "            a=text.find(';')+1\n",
    "            b=text[a:len(text)-1].find(';')+a\n",
    "            print(a,b)\n",
    "            radius = float(text[a:b])\n",
    "            print(radius)\n",
    "            color = [float(text) for text in text[b+1:len(text)].split(',')]\n",
    "            scene.append({'object':'sphere','position': np.array(position),'noor':radius, 'color':np.array(color),'reflection':0.2})\n",
    "        if(text==''):   break\n",
    "    return scene\n",
    "\n",
    "\n",
    "def normalize(x):\n",
    "    x /= np.linalg.norm(x)\n",
    "    return x\n",
    "\n",
    "def ray_intersects(objectType,parameter1, parameter2, startPoint,directionPoint):\n",
    "    if(objectType=='plane'):\n",
    "        normal=parameter2\n",
    "        radiusVector=parameter1\n",
    "        cosA = np.dot(directionPoint, normal)\n",
    "        if np.abs(cosA) < 1e-6:\n",
    "            return np.inf\n",
    "        d = np.dot(radiusVector - startPoint, normal) / cosA\n",
    "        if d < 0:\n",
    "            return np.inf\n",
    "        return d\n",
    "    if(objectType=='sphere'):\n",
    "        position=parameter1\n",
    "        radius=parameter2\n",
    "        a = np.dot(directionPoint, directionPoint)\n",
    "        startPosition = startPoint - position\n",
    "        b = 2 * np.dot(directionPoint, startPosition)\n",
    "        c = np.dot(startPosition, startPosition) - radius * radius\n",
    "        disc = b * b - 4 * a * c\n",
    "        if (disc > 0):\n",
    "            distSqrt = np.sqrt(disc)\n",
    "            q = (-b - distSqrt) / 2.0 if b < 0 else (-b + distSqrt) / 2.0\n",
    "            t0 = q / a\n",
    "            t1 = c / q\n",
    "            t0, t1 = min(t0, t1), max(t0, t1)\n",
    "            if t1 >= 0:\n",
    "                return t1 if t0 < 0 else t0\n",
    "    return np.inf\n",
    "\n",
    "def normal(obj, M):\n",
    "    if obj.get('object') == 'sphere':\n",
    "        N = normalize(M - obj.get('position'))\n",
    "    elif obj.get('object') == 'plane':\n",
    "        N = obj.get('noor')\n",
    "    return N\n",
    "       \n",
    "\n",
    "def tracing(startPoint, directionPoint,scene):\n",
    "    t = np.inf\n",
    "    n = len(scene)-1\n",
    "    for i in range(n):\n",
    "        distance = ray_intersects(scene[i].get('object'),scene[i].get('position'),scene[i].get('noor'),startPoint, directionPoint)\n",
    "        if distance < t:\n",
    "            t, index = distance, i\n",
    "    if t == np.inf:\n",
    "        return\n",
    "    obj = scene[index]\n",
    "    M = startPoint + directionPoint * t\n",
    "    N = normal(obj, M)\n",
    "    color = obj.get('color')\n",
    "    directionL = normalize(L - M)\n",
    "    l = [ray_intersects(scene[i].get('object'),scene[i].get('position'),scene[i].get('noor'),M + N * .0001, directionL) for k in range(n) if k != index]\n",
    "    if l and min(l) < np.inf:\n",
    "        return\n",
    "    col_ray = ambient\n",
    "    col_ray += obj.get('diffuse',1.0) * max(np.dot(N, directionL), 0) * color\n",
    "    return obj, M, N, col_ray\n",
    "\n",
    "\n",
    "L = np.array([7., 8., -30.])\n",
    "scene = make_scene('data.txt')\n",
    "\n",
    "\n",
    "    \n",
    "\n",
    "\n",
    "        \n",
    "        \n",
    "        \n",
    "        "
   ]
  },
  {
   "cell_type": "code",
   "execution_count": null,
   "metadata": {
    "collapsed": true
   },
   "outputs": [],
   "source": [
    "\n",
    "    \n",
    "    "
   ]
  },
  {
   "cell_type": "code",
   "execution_count": null,
   "metadata": {
    "collapsed": true
   },
   "outputs": [],
   "source": []
  }
 ],
 "metadata": {
  "anaconda-cloud": {},
  "kernelspec": {
   "display_name": "Python [conda root]",
   "language": "python",
   "name": "conda-root-py"
  },
  "language_info": {
   "codemirror_mode": {
    "name": "ipython",
    "version": 3
   },
   "file_extension": ".py",
   "mimetype": "text/x-python",
   "name": "python",
   "nbconvert_exporter": "python",
   "pygments_lexer": "ipython3",
   "version": "3.5.2"
  }
 },
 "nbformat": 4,
 "nbformat_minor": 1
}
