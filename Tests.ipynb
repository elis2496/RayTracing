{
 "cells": [
  {
   "cell_type": "code",
   "execution_count": 22,
   "metadata": {
    "collapsed": false
   },
   "outputs": [
    {
     "name": "stdout",
     "output_type": "stream",
     "text": [
      "0.05 1.0 1.0 50.0 5\n",
      "0.0 0.0\n",
      "0.0 0.0\n",
      "0.0 0.0\n",
      "0.1 0.1\n",
      "0.0 0.0\n",
      "0.4 0.4\n",
      "0.7 0.7\n",
      "0.223 0.223\n",
      "0.5 0.5\n",
      "0.0 0.0\n",
      "0.572 0.572\n",
      "0.184 0.184\n"
     ]
    }
   ],
   "source": [
    "import numpy as np\n",
    "import unittest\n",
    "import module\n",
    "import readfile2\n",
    "\n",
    "class FTestCase(unittest.TestCase):\n",
    "    def test_readData(self):\n",
    "        \"\"\"Function which checks correct data were read from a text file or not\"\"\"\n",
    "        scene1 = [{'object': 'plane', 'color': np.array([ 0.,  0.,  0.]), 'specular_c': 0.5, 'reflection': 0.5, 'noor': np.array([ 0.,  1.,  0.]), 'position': np.array([ 0. , -0.5,  0. ]), 'diffuse': 0.5}, \n",
    "               {'object': 'sphere', 'position': np.array([ 0.75,  0.1 ,  1.  ]), 'noor': 0.6, 'reflection': 0.2, 'color': np.array([ 0.1,  0. ,  0.4])}, \n",
    "               {'object': 'sphere', 'position': np.array([-0.5 ,  0.1 ,  2.25]), 'noor': 0.6, 'reflection': 0.2, 'color': np.array([ 0.7  ,  0.223,  0.5  ])}, \n",
    "               {'object': 'sphere', 'position': np.array([-2.5,  0.1,  3. ]), 'noor': 0.6, 'reflection': 0.2, 'color': np.array([ 0.   ,  0.572,  0.184])}]\n",
    "        L1=[1.0,5.0,-10.0]\n",
    "        ambient1=0.05\n",
    "        diffuse_c1=1.0\n",
    "        specular1=1.0\n",
    "        specular_k1=50.0\n",
    "        depth_max1=5  \n",
    "        O1=[0.0,0.35,-1.0]\n",
    "        Q1=[0.0,0.0,0.0]\n",
    "        filename='data.txt'\n",
    "        L,ambient,diffuse_c,specular,specular_k,depth_max,O,Q,scene = readfile2.make_scene(filename)\n",
    "        print(ambient,diffuse_c,specular,specular_k,depth_max)\n",
    "        self.assertEqual(len(scene1), len(scene))\n",
    "        self.assertEqual(L1,L)\n",
    "        self.assertEqual(ambient1,ambient)\n",
    "        self.assertEqual(diffuse_c1,diffuse_c)\n",
    "        self.assertEqual(specular_k1,specular_k)\n",
    "        self.assertEqual(depth_max1,depth_max)\n",
    "        self.assertEqual(O1,O)\n",
    "        self.assertEqual(Q1,Q)\n",
    "        for obj1, obj2 in zip(scene1, scene):\n",
    "            self.assertEqual(obj1.get('object'), obj2.get('object'))\n",
    "            for i, j in zip(obj1.get('position'),obj2.get('position')):    self.assertEqual(i,j)\n",
    "            self.assertEqual(obj1.get('specular_c',1), obj2.get('specular_c',1))\n",
    "            if (obj1.get('object')=='sphere'):     self.assertEqual(obj1.get('noor'),obj2.get('noor'))\n",
    "            else:    \n",
    "                for i, j in zip(obj1.get('noor'),obj2.get('noor')):    self.assertEqual(i,j)\n",
    "            self.assertEqual(obj1.get('reflection'), obj2.get('reflection'))\n",
    "            for i, j in zip(obj1.get('color'),obj2.get('color')):    \n",
    "                print(i,j)\n",
    "                self.assertEqual(i,j)\n",
    "    def test_planeInteresect(self):\n",
    "        \"\"\"Function which checks correct value were got using function ray_intersects or not\"\"\"\n",
    "        d=1.0\n",
    "        self.assertEqual(d,module.ray_intersects('plane',np.array([1., 1., 1.]), np.array([0., 1., 0.]), np.array([0., 0., 0.]),np.array([1.,1.,1.])))\n",
    "    def test_sphereInteresect(self):\n",
    "        \"\"\"Function which checks correct value were got using function ray_intersects or not\"\"\"\n",
    "        d=1.0\n",
    "        self.assertEqual(d,module.ray_intersects('sphere',np.array([1., 0., 0.]), 1., np.array([1., 0., 0.]),np.array([1.,0.,0.])))\n",
    "\n",
    "        \n",
    "testcase = FTestCase()\n",
    "testcase.test_readData()\n",
    "testcase.test_planeInteresect()\n",
    "testcase.test_sphereInteresect()\n",
    "\n",
    "#if __name__ == \"__main__\":\n",
    "#    unittest.main()\n"
   ]
  },
  {
   "cell_type": "code",
   "execution_count": null,
   "metadata": {
    "collapsed": true
   },
   "outputs": [],
   "source": []
  },
  {
   "cell_type": "code",
   "execution_count": null,
   "metadata": {
    "collapsed": true
   },
   "outputs": [],
   "source": []
  }
 ],
 "metadata": {
  "anaconda-cloud": {},
  "kernelspec": {
   "display_name": "Python [conda root]",
   "language": "python",
   "name": "conda-root-py"
  },
  "language_info": {
   "codemirror_mode": {
    "name": "ipython",
    "version": 3
   },
   "file_extension": ".py",
   "mimetype": "text/x-python",
   "name": "python",
   "nbconvert_exporter": "python",
   "pygments_lexer": "ipython3",
   "version": "3.5.2"
  }
 },
 "nbformat": 4,
 "nbformat_minor": 1
}
